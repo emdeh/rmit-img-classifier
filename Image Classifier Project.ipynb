{
 "cells": [
  {
   "cell_type": "markdown",
   "metadata": {},
   "source": [
    "# Developing an AI application\n",
    "\n",
    "Going forward, AI algorithms will be incorporated into more and more everyday applications. For example, you might want to include an image classifier in a smart phone app. To do this, you'd use a deep learning model trained on hundreds of thousands of images as part of the overall application architecture. A large part of software development in the future will be using these types of models as common parts of applications. \n",
    "\n",
    "In this project, you'll train an image classifier to recognize different species of flowers. You can imagine using something like this in a phone app that tells you the name of the flower your camera is looking at. In practice you'd train this classifier, then export it for use in your application. We'll be using [this dataset](http://www.robots.ox.ac.uk/~vgg/data/flowers/102/index.html) of 102 flower categories, you can see a few examples below. \n",
    "\n",
    "<img src='assets/Flowers.png' width=500px>\n",
    "\n",
    "The project is broken down into multiple steps:\n",
    "\n",
    "* Load and preprocess the image dataset\n",
    "* Train the image classifier on your dataset\n",
    "* Use the trained classifier to predict image content\n",
    "\n",
    "We'll lead you through each part which you'll implement in Python.\n",
    "\n",
    "When you've completed this project, you'll have an application that can be trained on any set of labeled images. Here your network will be learning about flowers and end up as a command line application. But, what you do with your new skills depends on your imagination and effort in building a dataset. For example, imagine an app where you take a picture of a car, it tells you what the make and model is, then looks up information about it. Go build your own dataset and make something new.\n",
    "\n",
    "First up is importing the packages you'll need. It's good practice to keep all the imports at the beginning of your code. As you work through this notebook and find you need to import a package, make sure to add the import up here."
   ]
  },
  {
   "cell_type": "code",
   "execution_count": 11,
   "metadata": {},
   "outputs": [
    {
     "name": "stdout",
     "output_type": "stream",
     "text": [
      "Using CPU.\n",
      "CUDA available: False\n",
      "ROCm available: False\n"
     ]
    }
   ],
   "source": [
    "# Imports here\n",
    "import torch\n",
    "from torch import nn, optim\n",
    "from torchvision import datasets, transforms, models\n",
    "from torch.utils.data import DataLoader\n",
    "import json\n",
    "\n",
    "# Check for CUDA (NVIDIA GPU)\n",
    "if torch.cuda.is_available():\n",
    "    device = torch.device(\"cuda\")\n",
    "    print(\"Using NVIDIA GPU with CUDA.\")\n",
    "# Check for ROCm (AMD GPU)\n",
    "elif torch.backends.mps.is_available():\n",
    "    device = torch.device(\"mps\")\n",
    "    print(\"Using AMD GPU with ROCm.\")\n",
    "# Fallback to CPU\n",
    "else:\n",
    "    device = torch.device(\"cpu\")\n",
    "    print(\"Using CPU.\")\n",
    "\n",
    "# Print the availability of CUDA and ROCm for additional verification\n",
    "print(\"CUDA available:\", torch.cuda.is_available())\n",
    "print(\"ROCm available:\", torch.backends.mps.is_available())\n"
   ]
  },
  {
   "cell_type": "markdown",
   "metadata": {},
   "source": [
    "## Load the data\n",
    "\n",
    "Here you'll use `torchvision` to load the data ([documentation](http://pytorch.org/docs/0.3.0/torchvision/index.html)). The data should be included alongside this notebook, otherwise you can [download it here](https://s3.amazonaws.com/content.udacity-data.com/nd089/flower_data.tar.gz). The dataset is split into three parts, training, validation, and testing. For the training, you'll want to apply transformations such as random scaling, cropping, and flipping. This will help the network generalize leading to better performance. You'll also need to make sure the input data is resized to 224x224 pixels as required by the pre-trained networks.\n",
    "\n",
    "The validation and testing sets are used to measure the model's performance on data it hasn't seen yet. For this you don't want any scaling or rotation transformations, but you'll need to resize then crop the images to the appropriate size.\n",
    "\n",
    "The pre-trained networks you'll use were trained on the ImageNet dataset where each color channel was normalized separately. For all three sets you'll need to normalize the means and standard deviations of the images to what the network expects. For the means, it's `[0.485, 0.456, 0.406]` and for the standard deviations `[0.229, 0.224, 0.225]`, calculated from the ImageNet images.  These values will shift each color channel to be centered at 0 and range from -1 to 1.\n",
    " "
   ]
  },
  {
   "cell_type": "code",
   "execution_count": 2,
   "metadata": {},
   "outputs": [],
   "source": [
    "# Sets the file paths for the directories containing the training, \n",
    "# validation, and testing data.\n",
    "\n",
    "data_dir = 'flowers'\n",
    "train_dir = data_dir + '/train'\n",
    "valid_dir = data_dir + '/valid'\n",
    "test_dir = data_dir + '/test'"
   ]
  },
  {
   "cell_type": "code",
   "execution_count": 3,
   "metadata": {},
   "outputs": [],
   "source": [
    "# TODO: Define your transforms for the training, validation, and testing \n",
    "# sets\n",
    "\"\"\"\n",
    "Define data transformations, load datasets, and define dataloaders.\n",
    "\n",
    "This code block defines the following:\n",
    "- `data_transforms`: A dict that contains the data transformations \n",
    "    for the training, validation, and testing sets.\n",
    "\n",
    "- `image_datasets`: A dict that contains the datasets loaded using \n",
    "    the `ImageFolder` class from the `datasets` module.\n",
    "\n",
    "- `dataloaders`: A dict that contains the dataloaders for the \n",
    "    training, validation, and testing sets.\n",
    "\n",
    "The data transformations include random rotation, random resized crop, \n",
    "random horizontal flip, tensor conversion, and normalisation. \n",
    "\n",
    "The datasets are loaded using the `ImageFolder` class, which expects the\n",
    "directory structure to be organised by class labels. The dataloaders are \n",
    "created using the `DataLoader` class, which provides an iterable over \n",
    "the datasets with specified batch sizes.\n",
    "\"\"\"\n",
    "\n",
    "data_transforms = {\n",
    "    'train': transforms.Compose([\n",
    "        transforms.RandomRotation(30),\n",
    "        transforms.RandomResizedCrop(224),\n",
    "        transforms.RandomHorizontalFlip(),\n",
    "        transforms.ToTensor(),\n",
    "        transforms.Normalize([0.485, 0.456, 0.406], [0.229, 0.224, 0.225])\n",
    "    ]),\n",
    "    'valid': transforms.Compose([\n",
    "        transforms.Resize(256),\n",
    "        transforms.CenterCrop(224),\n",
    "        transforms.ToTensor(),\n",
    "        transforms.Normalize([0.485, 0.456, 0.406], [0.229, 0.224, 0.225])\n",
    "    ]),\n",
    "    'test': transforms.Compose([\n",
    "        transforms.Resize(256),\n",
    "        transforms.CenterCrop(224),\n",
    "        transforms.ToTensor(),\n",
    "        transforms.Normalize([0.485, 0.456, 0.406], [0.229, 0.224, 0.225])\n",
    "    ])\n",
    "}\n",
    "\n",
    "# TODO: Load the datasets with ImageFolder\n",
    "image_datasets = {\n",
    "    'train': datasets.ImageFolder(train_dir, transform=data_transforms['train']),\n",
    "    'valid': datasets.ImageFolder(valid_dir, transform=data_transforms['valid']),\n",
    "    'test': datasets.ImageFolder(test_dir, transform=data_transforms['test'])\n",
    "}\n",
    "\n",
    "# TODO: Using the image datasets and the trainforms, define the dataloaders\n",
    "dataloaders = {\n",
    "    'train': DataLoader(image_datasets['train'], batch_size=64, shuffle=True),\n",
    "    'valid': DataLoader(image_datasets['valid'], batch_size=64),\n",
    "    'test': DataLoader(image_datasets['test'], batch_size=64)\n",
    "}"
   ]
  },
  {
   "cell_type": "markdown",
   "metadata": {},
   "source": [
    "### Label mapping\n",
    "\n",
    "You'll also need to load in a mapping from category label to category name. You can find this in the file `cat_to_name.json`. It's a JSON object which you can read in with the [`json` module](https://docs.python.org/2/library/json.html). This will give you a dictionary mapping the integer encoded categories to the actual names of the flowers."
   ]
  },
  {
   "cell_type": "code",
   "execution_count": 4,
   "metadata": {},
   "outputs": [],
   "source": [
    "# Opens the 'cat_to_name.json' file in read mode and loads its contents \n",
    "# into a dictionary that maps category labels to flower names.\n",
    "with open('cat_to_name.json', 'r') as f:\n",
    "    cat_to_name = json.load(f)\n"
   ]
  },
  {
   "cell_type": "markdown",
   "metadata": {},
   "source": [
    "# Building and training the classifier\n",
    "\n",
    "Now that the data is ready, it's time to build and train the classifier. As usual, you should use one of the pretrained models from `torchvision.models` to get the image features. Build and train a new feed-forward classifier using those features.\n",
    "\n",
    "We're going to leave this part up to you. Refer to [the rubric](https://review.udacity.com/#!/rubrics/1663/view) for guidance on successfully completing this section. Things you'll need to do:\n",
    "\n",
    "* Load a [pre-trained network](http://pytorch.org/docs/master/torchvision/models.html) (If you need a starting point, the VGG networks work great and are straightforward to use)\n",
    "* Define a new, untrained feed-forward network as a classifier, using ReLU activations and dropout\n",
    "* Train the classifier layers using backpropagation using the pre-trained network to get the features\n",
    "* Track the loss and accuracy on the validation set to determine the best hyperparameters\n",
    "\n",
    "We've left a cell open for you below, but use as many as you need. Our advice is to break the problem up into smaller parts you can run separately. Check that each part is doing what you expect, then move on to the next. You'll likely find that as you work through each part, you'll need to go back and modify your previous code. This is totally normal!\n",
    "\n",
    "When training make sure you're updating only the weights of the feed-forward network. You should be able to get the validation accuracy above 70% if you build everything right. Make sure to try different hyperparameters (learning rate, units in the classifier, epochs, etc) to find the best model. Save those hyperparameters to use as default values in the next part of the project.\n",
    "\n",
    "One last important tip if you're using the workspace to run your code: To avoid having your workspace disconnect during the long-running tasks in this notebook, please read in the earlier page in this lesson called Intro to\n",
    "GPU Workspaces about Keeping Your Session Active. You'll want to include code from the workspace_utils.py module.\n",
    "\n",
    "**Note for Workspace users:** If your network is over 1 GB when saved as a checkpoint, there might be issues with saving backups in your workspace. Typically this happens with wide dense layers after the convolutional layers. If your saved checkpoint is larger than 1 GB (you can open a terminal and check with `ls -lh`), you should reduce the size of your hidden layers and train again."
   ]
  },
  {
   "cell_type": "markdown",
   "metadata": {},
   "source": [
    "## Cell to verify hardware being used before commencing"
   ]
  },
  {
   "cell_type": "code",
   "execution_count": 5,
   "metadata": {},
   "outputs": [
    {
     "name": "stdout",
     "output_type": "stream",
     "text": [
      "Using CPU.\n"
     ]
    }
   ],
   "source": [
    "# Verify the hardware being used\n",
    "\n",
    "# Check for CUDA (NVIDIA GPU)\n",
    "if torch.cuda.is_available():\n",
    "    device = torch.device(\"cuda\")\n",
    "    print(\"Using NVIDIA GPU with CUDA.\")\n",
    "# Check for ROCm (AMD GPU)\n",
    "elif torch.backends.mps.is_available():\n",
    "    device = torch.device(\"mps\")\n",
    "    print(\"Using AMD GPU with ROCm.\")\n",
    "# Fallback to CPU\n",
    "else:\n",
    "    device = torch.device(\"cpu\")\n",
    "    print(\"Using CPU.\")\n"
   ]
  },
  {
   "cell_type": "code",
   "execution_count": 6,
   "metadata": {},
   "outputs": [
    {
     "name": "stderr",
     "output_type": "stream",
     "text": [
      "/home/emdeh/anaconda3/envs/fnl-prj-img-class/lib/python3.12/site-packages/torchvision/models/_utils.py:208: UserWarning: The parameter 'pretrained' is deprecated since 0.13 and may be removed in the future, please use 'weights' instead.\n",
      "  warnings.warn(\n",
      "/home/emdeh/anaconda3/envs/fnl-prj-img-class/lib/python3.12/site-packages/torchvision/models/_utils.py:223: UserWarning: Arguments other than a weight enum or `None` for 'weights' are deprecated since 0.13 and may be removed in the future. The current behavior is equivalent to passing `weights=VGG16_Weights.IMAGENET1K_V1`. You can also use `weights=VGG16_Weights.DEFAULT` to get the most up-to-date weights.\n",
      "  warnings.warn(msg)\n"
     ]
    }
   ],
   "source": [
    "# Load a pre-trained model\n",
    "model = models.vgg16(pretrained=True)  # Fallback for older versions\n"
   ]
  },
  {
   "cell_type": "code",
   "execution_count": 7,
   "metadata": {},
   "outputs": [],
   "source": [
    "# Freeze the parameters of the pre-trained model to avoid backpropagation through them\n",
    "for param in model.parameters():\n",
    "    param.requires_grad = False\n"
   ]
  },
  {
   "cell_type": "code",
   "execution_count": 8,
   "metadata": {},
   "outputs": [],
   "source": [
    "# Define a new, untrained feed-forward network as a classifier\n",
    "classifier = nn.Sequential(\n",
    "    nn.Linear(25088, 4096),\n",
    "    nn.ReLU(),\n",
    "    nn.Dropout(p=0.5),\n",
    "    nn.Linear(4096, 102),\n",
    "    nn.LogSoftmax(dim=1)\n",
    ")\n",
    "\n",
    "# Replace the pre-trained model's classifier with the new classifier\n",
    "model.classifier = classifier\n",
    "\n",
    "# Move the model to the appropriate device (GPU/CPU)\n",
    "model = model.to(device)\n"
   ]
  },
  {
   "cell_type": "code",
   "execution_count": 9,
   "metadata": {},
   "outputs": [],
   "source": [
    "# Specify the loss function and optimizer\n",
    "criterion = nn.NLLLoss()\n",
    "optimiser = optim.Adam(model.classifier.parameters(), lr=0.001)\n"
   ]
  },
  {
   "cell_type": "code",
   "execution_count": 12,
   "metadata": {},
   "outputs": [
    {
     "name": "stdout",
     "output_type": "stream",
     "text": [
      "Epoch 1/5.. Train loss: 1.509.. Validation loss: 0.765.. Validation accuracy: 0.800\n",
      "Epoch 1/5.. Train loss: 1.399.. Validation loss: 0.732.. Validation accuracy: 0.805\n",
      "Epoch 1/5.. Train loss: 1.515.. Validation loss: 0.682.. Validation accuracy: 0.808\n",
      "Epoch 1/5.. Train loss: 1.438.. Validation loss: 0.818.. Validation accuracy: 0.816\n",
      "Epoch 1/5.. Train loss: 1.361.. Validation loss: 0.752.. Validation accuracy: 0.820\n",
      "Epoch 1/5.. Train loss: 1.588.. Validation loss: 1.179.. Validation accuracy: 0.803\n",
      "Epoch 1/5.. Train loss: 1.458.. Validation loss: 0.968.. Validation accuracy: 0.805\n",
      "Epoch 1/5.. Train loss: 1.431.. Validation loss: 0.616.. Validation accuracy: 0.814\n",
      "Epoch 1/5.. Train loss: 1.410.. Validation loss: 0.637.. Validation accuracy: 0.813\n",
      "Epoch 1/5.. Train loss: 1.369.. Validation loss: 1.022.. Validation accuracy: 0.794\n",
      "Epoch 1/5.. Train loss: 1.357.. Validation loss: 0.916.. Validation accuracy: 0.815\n",
      "Epoch 1/5.. Train loss: 1.296.. Validation loss: 0.718.. Validation accuracy: 0.841\n",
      "Epoch 1/5.. Train loss: 1.367.. Validation loss: 0.439.. Validation accuracy: 0.846\n",
      "Epoch 1/5.. Train loss: 1.370.. Validation loss: 0.353.. Validation accuracy: 0.828\n",
      "Epoch 1/5.. Train loss: 1.240.. Validation loss: 0.574.. Validation accuracy: 0.854\n",
      "Epoch 1/5.. Train loss: 1.337.. Validation loss: 1.008.. Validation accuracy: 0.830\n",
      "Epoch 1/5.. Train loss: 1.339.. Validation loss: 0.866.. Validation accuracy: 0.834\n",
      "Epoch 1/5.. Train loss: 1.258.. Validation loss: 0.533.. Validation accuracy: 0.845\n",
      "Epoch 1/5.. Train loss: 1.403.. Validation loss: 0.782.. Validation accuracy: 0.839\n",
      "Epoch 1/5.. Train loss: 1.253.. Validation loss: 0.980.. Validation accuracy: 0.836\n",
      "Epoch 2/5.. Train loss: 1.406.. Validation loss: 0.658.. Validation accuracy: 0.839\n",
      "Epoch 2/5.. Train loss: 1.330.. Validation loss: 0.411.. Validation accuracy: 0.857\n",
      "Epoch 2/5.. Train loss: 1.156.. Validation loss: 0.491.. Validation accuracy: 0.846\n",
      "Epoch 2/5.. Train loss: 1.329.. Validation loss: 0.742.. Validation accuracy: 0.844\n",
      "Epoch 2/5.. Train loss: 1.292.. Validation loss: 0.884.. Validation accuracy: 0.841\n",
      "Epoch 2/5.. Train loss: 1.288.. Validation loss: 0.751.. Validation accuracy: 0.840\n",
      "Epoch 2/5.. Train loss: 1.099.. Validation loss: 0.486.. Validation accuracy: 0.863\n",
      "Epoch 2/5.. Train loss: 1.374.. Validation loss: 0.286.. Validation accuracy: 0.851\n",
      "Epoch 2/5.. Train loss: 1.353.. Validation loss: 0.372.. Validation accuracy: 0.860\n",
      "Epoch 2/5.. Train loss: 1.219.. Validation loss: 0.547.. Validation accuracy: 0.851\n",
      "Epoch 2/5.. Train loss: 1.225.. Validation loss: 0.624.. Validation accuracy: 0.867\n",
      "Epoch 2/5.. Train loss: 1.261.. Validation loss: 0.454.. Validation accuracy: 0.880\n",
      "Epoch 2/5.. Train loss: 1.306.. Validation loss: 0.253.. Validation accuracy: 0.850\n",
      "Epoch 2/5.. Train loss: 1.183.. Validation loss: 0.246.. Validation accuracy: 0.862\n",
      "Epoch 2/5.. Train loss: 1.423.. Validation loss: 0.460.. Validation accuracy: 0.854\n",
      "Epoch 2/5.. Train loss: 1.319.. Validation loss: 0.722.. Validation accuracy: 0.841\n",
      "Epoch 2/5.. Train loss: 1.269.. Validation loss: 0.510.. Validation accuracy: 0.855\n",
      "Epoch 2/5.. Train loss: 1.443.. Validation loss: 0.303.. Validation accuracy: 0.866\n",
      "Epoch 2/5.. Train loss: 1.064.. Validation loss: 0.302.. Validation accuracy: 0.869\n",
      "Epoch 2/5.. Train loss: 1.121.. Validation loss: 0.442.. Validation accuracy: 0.869\n",
      "Epoch 2/5.. Train loss: 1.243.. Validation loss: 0.444.. Validation accuracy: 0.852\n",
      "Epoch 3/5.. Train loss: 1.183.. Validation loss: 0.331.. Validation accuracy: 0.837\n",
      "Epoch 3/5.. Train loss: 1.419.. Validation loss: 0.468.. Validation accuracy: 0.856\n",
      "Epoch 3/5.. Train loss: 1.372.. Validation loss: 0.463.. Validation accuracy: 0.869\n",
      "Epoch 3/5.. Train loss: 0.996.. Validation loss: 0.332.. Validation accuracy: 0.859\n",
      "Epoch 3/5.. Train loss: 1.043.. Validation loss: 0.321.. Validation accuracy: 0.850\n",
      "Epoch 3/5.. Train loss: 1.189.. Validation loss: 0.417.. Validation accuracy: 0.843\n",
      "Epoch 3/5.. Train loss: 1.139.. Validation loss: 0.556.. Validation accuracy: 0.849\n",
      "Epoch 3/5.. Train loss: 1.360.. Validation loss: 0.432.. Validation accuracy: 0.865\n",
      "Epoch 3/5.. Train loss: 1.076.. Validation loss: 0.457.. Validation accuracy: 0.850\n",
      "Epoch 3/5.. Train loss: 1.195.. Validation loss: 0.402.. Validation accuracy: 0.860\n",
      "Epoch 3/5.. Train loss: 1.208.. Validation loss: 0.274.. Validation accuracy: 0.862\n",
      "Epoch 3/5.. Train loss: 1.420.. Validation loss: 0.289.. Validation accuracy: 0.874\n",
      "Epoch 3/5.. Train loss: 1.007.. Validation loss: 0.435.. Validation accuracy: 0.877\n",
      "Epoch 3/5.. Train loss: 1.144.. Validation loss: 0.444.. Validation accuracy: 0.864\n",
      "Epoch 3/5.. Train loss: 1.211.. Validation loss: 0.258.. Validation accuracy: 0.874\n",
      "Epoch 3/5.. Train loss: 1.374.. Validation loss: 0.205.. Validation accuracy: 0.854\n",
      "Epoch 3/5.. Train loss: 1.206.. Validation loss: 0.333.. Validation accuracy: 0.860\n",
      "Epoch 3/5.. Train loss: 1.197.. Validation loss: 0.424.. Validation accuracy: 0.878\n",
      "Epoch 3/5.. Train loss: 1.014.. Validation loss: 0.430.. Validation accuracy: 0.889\n",
      "Epoch 3/5.. Train loss: 1.193.. Validation loss: 0.435.. Validation accuracy: 0.872\n",
      "Epoch 4/5.. Train loss: 1.205.. Validation loss: 0.451.. Validation accuracy: 0.875\n",
      "Epoch 4/5.. Train loss: 1.297.. Validation loss: 0.350.. Validation accuracy: 0.872\n",
      "Epoch 4/5.. Train loss: 1.101.. Validation loss: 0.241.. Validation accuracy: 0.884\n",
      "Epoch 4/5.. Train loss: 1.014.. Validation loss: 0.344.. Validation accuracy: 0.875\n",
      "Epoch 4/5.. Train loss: 1.069.. Validation loss: 0.453.. Validation accuracy: 0.875\n",
      "Epoch 4/5.. Train loss: 1.076.. Validation loss: 0.431.. Validation accuracy: 0.891\n",
      "Epoch 4/5.. Train loss: 1.130.. Validation loss: 0.474.. Validation accuracy: 0.890\n",
      "Epoch 4/5.. Train loss: 1.334.. Validation loss: 0.574.. Validation accuracy: 0.860\n",
      "Epoch 4/5.. Train loss: 1.332.. Validation loss: 0.486.. Validation accuracy: 0.874\n",
      "Epoch 4/5.. Train loss: 1.202.. Validation loss: 0.389.. Validation accuracy: 0.886\n",
      "Epoch 4/5.. Train loss: 1.069.. Validation loss: 0.367.. Validation accuracy: 0.865\n",
      "Epoch 4/5.. Train loss: 1.341.. Validation loss: 0.359.. Validation accuracy: 0.861\n",
      "Epoch 4/5.. Train loss: 1.197.. Validation loss: 0.442.. Validation accuracy: 0.869\n",
      "Epoch 4/5.. Train loss: 1.130.. Validation loss: 0.416.. Validation accuracy: 0.864\n",
      "Epoch 4/5.. Train loss: 1.288.. Validation loss: 0.306.. Validation accuracy: 0.870\n",
      "Epoch 4/5.. Train loss: 1.233.. Validation loss: 0.269.. Validation accuracy: 0.882\n",
      "Epoch 4/5.. Train loss: 1.194.. Validation loss: 0.266.. Validation accuracy: 0.879\n",
      "Epoch 4/5.. Train loss: 1.022.. Validation loss: 0.284.. Validation accuracy: 0.880\n",
      "Epoch 4/5.. Train loss: 1.018.. Validation loss: 0.383.. Validation accuracy: 0.866\n",
      "Epoch 4/5.. Train loss: 1.117.. Validation loss: 0.428.. Validation accuracy: 0.877\n",
      "Epoch 4/5.. Train loss: 1.312.. Validation loss: 0.406.. Validation accuracy: 0.891\n",
      "Epoch 5/5.. Train loss: 1.179.. Validation loss: 0.272.. Validation accuracy: 0.885\n",
      "Epoch 5/5.. Train loss: 1.294.. Validation loss: 0.224.. Validation accuracy: 0.878\n",
      "Epoch 5/5.. Train loss: 0.973.. Validation loss: 0.282.. Validation accuracy: 0.881\n",
      "Epoch 5/5.. Train loss: 1.089.. Validation loss: 0.442.. Validation accuracy: 0.867\n",
      "Epoch 5/5.. Train loss: 1.235.. Validation loss: 0.453.. Validation accuracy: 0.865\n",
      "Epoch 5/5.. Train loss: 1.162.. Validation loss: 0.499.. Validation accuracy: 0.886\n",
      "Epoch 5/5.. Train loss: 1.119.. Validation loss: 0.689.. Validation accuracy: 0.876\n",
      "Epoch 5/5.. Train loss: 1.136.. Validation loss: 0.509.. Validation accuracy: 0.869\n",
      "Epoch 5/5.. Train loss: 1.105.. Validation loss: 0.436.. Validation accuracy: 0.882\n",
      "Epoch 5/5.. Train loss: 1.207.. Validation loss: 0.521.. Validation accuracy: 0.874\n",
      "Epoch 5/5.. Train loss: 1.319.. Validation loss: 0.415.. Validation accuracy: 0.859\n",
      "Epoch 5/5.. Train loss: 1.049.. Validation loss: 0.383.. Validation accuracy: 0.874\n",
      "Epoch 5/5.. Train loss: 1.073.. Validation loss: 0.348.. Validation accuracy: 0.881\n",
      "Epoch 5/5.. Train loss: 1.266.. Validation loss: 0.290.. Validation accuracy: 0.876\n",
      "Epoch 5/5.. Train loss: 1.014.. Validation loss: 0.336.. Validation accuracy: 0.867\n",
      "Epoch 5/5.. Train loss: 1.128.. Validation loss: 0.486.. Validation accuracy: 0.872\n",
      "Epoch 5/5.. Train loss: 1.095.. Validation loss: 0.530.. Validation accuracy: 0.877\n",
      "Epoch 5/5.. Train loss: 1.245.. Validation loss: 0.378.. Validation accuracy: 0.869\n",
      "Epoch 5/5.. Train loss: 1.124.. Validation loss: 0.452.. Validation accuracy: 0.881\n",
      "Epoch 5/5.. Train loss: 1.243.. Validation loss: 0.304.. Validation accuracy: 0.876\n",
      "Epoch 5/5.. Train loss: 1.415.. Validation loss: 0.216.. Validation accuracy: 0.888\n"
     ]
    }
   ],
   "source": [
    "# Train the classifier\n",
    "model.train()\n",
    "\n",
    "# Set the number of epochs\n",
    "epochs = 5\n",
    "steps = 0\n",
    "running_loss = 0\n",
    "print_every = 5\n",
    "\n",
    "for epoch in range(epochs):\n",
    "    for inputs, labels in dataloaders['train']:\n",
    "        steps += 1\n",
    "\n",
    "        # Move input and label tensors to the appropriate device (GPU/CPU)\n",
    "        inputs, labels = inputs.to(device), labels.to(device)\n",
    "\n",
    "        # Zero the gradients\n",
    "        optimiser.zero_grad()\n",
    "\n",
    "        # Forward pass\n",
    "        outputs = model(inputs)\n",
    "        loss = criterion(outputs, labels)\n",
    "\n",
    "        # Backward pass and optimize\n",
    "        loss.backward()\n",
    "        optimiser.step()\n",
    "\n",
    "        running_loss += loss.item()\n",
    "\n",
    "        if steps % print_every == 0:\n",
    "            # Validate the model\n",
    "            model.eval()\n",
    "            accuracy = 0\n",
    "            with torch.no_grad():\n",
    "                for inputs, labels in dataloaders['valid']:\n",
    "                    inputs, labels = inputs.to(device), labels.to(device)\n",
    "                    outputs = model(inputs)\n",
    "                    loss = criterion(outputs, labels)\n",
    "\n",
    "                    # Calculate the accuracy\n",
    "                    ps = torch.exp(outputs)\n",
    "                    top_p, top_class = ps.topk(1, dim=1)\n",
    "                    equals = top_class == labels.view(*top_class.shape)\n",
    "                    accuracy += torch.mean(equals.type(torch.FloatTensor)).item()\n",
    "\n",
    "            print(f'Epoch {epoch+1}/{epochs}.. '\n",
    "                  f'Train loss: {running_loss/print_every:.3f}.. '\n",
    "                  f'Validation loss: {loss:.3f}.. '\n",
    "                  f'Validation accuracy: {accuracy/len(dataloaders[\"valid\"]):.3f}')\n",
    "            \n",
    "            running_loss = 0\n",
    "            model.train()\n"
   ]
  },
  {
   "cell_type": "code",
   "execution_count": 13,
   "metadata": {},
   "outputs": [],
   "source": [
    "# Save the model\n",
    "model.class_to_idx = image_datasets['train'].class_to_idx\n",
    "\n",
    "checkpoint = {\n",
    "    'input_size': 25088,\n",
    "    'output_size': 102,\n",
    "    'hidden_layers': [4096],\n",
    "    'state_dict': model.state_dict(),\n",
    "    'class_to_idx': model.class_to_idx,\n",
    "    'classifier': model.classifier,\n",
    "    'optimizer_state_dict': optimiser.state_dict(),\n",
    "    'epochs': epochs\n",
    "}\n",
    "\n",
    "torch.save(checkpoint, 'checkpoint.pth')\n"
   ]
  },
  {
   "cell_type": "markdown",
   "metadata": {},
   "source": [
    "## Testing your network\n",
    "\n",
    "It's good practice to test your trained network on test data, images the network has never seen either in training or validation. This will give you a good estimate for the model's performance on completely new images. Run the test images through the network and measure the accuracy, the same way you did validation. You should be able to reach around 70% accuracy on the test set if the model has been trained well."
   ]
  },
  {
   "cell_type": "code",
   "execution_count": null,
   "metadata": {},
   "outputs": [],
   "source": [
    "# TODO: Do validation on the test set\n",
    "\n",
    "# Set the model to evaluation mode\n",
    "model.eval()\n",
    "\n",
    "# Initialise test accuracy\n",
    "test_accuracy = 0\n",
    "\n",
    "# Disable gradient computation as not required for validation\n",
    "with torch.no_grad():\n",
    "    for inputs, labels in dataloaders['test']:\n",
    "        # Move inputs and labels to the GPU if available\n",
    "        inputs, labels = inputs.to('cuda'), labels.to('cuda')\n",
    "        \n",
    "        # Forward pass\n",
    "        outputs = model(inputs)\n",
    "        \n",
    "        # Calculate probabilities\n",
    "        ps = torch.exp(outputs)\n",
    "        \n",
    "        # Get the top class\n",
    "        top_p, top_class = ps.topk(1, dim=1)\n",
    "        \n",
    "        # Compare predicted classes with true labels\n",
    "        equals = top_class == labels.view(*top_class.shape)\n",
    "        \n",
    "        # Calculate accuracy\n",
    "        test_accuracy += torch.mean(equals.type(torch.FloatTensor)).item()\n",
    "\n",
    "# Calculate the overall accuracy on the test set\n",
    "test_accuracy = test_accuracy / len(dataloaders['test'])\n",
    "print(f\"Test Accuracy: {test_accuracy:.3f}\")"
   ]
  },
  {
   "cell_type": "markdown",
   "metadata": {},
   "source": [
    "## Save the checkpoint\n",
    "\n",
    "Now that your network is trained, save the model so you can load it later for making predictions. You probably want to save other things such as the mapping of classes to indices which you get from one of the image datasets: `image_datasets['train'].class_to_idx`. You can attach this to the model as an attribute which makes inference easier later on.\n",
    "\n",
    "```model.class_to_idx = image_datasets['train'].class_to_idx```\n",
    "\n",
    "Remember that you'll want to completely rebuild the model later so you can use it for inference. Make sure to include any information you need in the checkpoint. If you want to load the model and keep training, you'll want to save the number of epochs as well as the optimizer state, `optimizer.state_dict`. You'll likely want to use this trained model in the next part of the project, so best to save it now."
   ]
  },
  {
   "cell_type": "code",
   "execution_count": null,
   "metadata": {},
   "outputs": [],
   "source": [
    "# TODO: Save the checkpoint "
   ]
  },
  {
   "cell_type": "markdown",
   "metadata": {},
   "source": [
    "## Loading the checkpoint\n",
    "\n",
    "At this point it's good to write a function that can load a checkpoint and rebuild the model. That way you can come back to this project and keep working on it without having to retrain the network."
   ]
  },
  {
   "cell_type": "code",
   "execution_count": null,
   "metadata": {},
   "outputs": [],
   "source": [
    "# TODO: Write a function that loads a checkpoint and rebuilds the model"
   ]
  },
  {
   "cell_type": "markdown",
   "metadata": {},
   "source": [
    "# Inference for classification\n",
    "\n",
    "Now you'll write a function to use a trained network for inference. That is, you'll pass an image into the network and predict the class of the flower in the image. Write a function called `predict` that takes an image and a model, then returns the top $K$ most likely classes along with the probabilities. It should look like \n",
    "\n",
    "```python\n",
    "probs, classes = predict(image_path, model)\n",
    "print(probs)\n",
    "print(classes)\n",
    "> [ 0.01558163  0.01541934  0.01452626  0.01443549  0.01407339]\n",
    "> ['70', '3', '45', '62', '55']\n",
    "```\n",
    "\n",
    "First you'll need to handle processing the input image such that it can be used in your network. \n",
    "\n",
    "## Image Preprocessing\n",
    "\n",
    "You'll want to use `PIL` to load the image ([documentation](https://pillow.readthedocs.io/en/latest/reference/Image.html)). It's best to write a function that preprocesses the image so it can be used as input for the model. This function should process the images in the same manner used for training. \n",
    "\n",
    "First, resize the images where the shortest side is 256 pixels, keeping the aspect ratio. This can be done with the [`thumbnail`](http://pillow.readthedocs.io/en/3.1.x/reference/Image.html#PIL.Image.Image.thumbnail) or [`resize`](http://pillow.readthedocs.io/en/3.1.x/reference/Image.html#PIL.Image.Image.thumbnail) methods. Then you'll need to crop out the center 224x224 portion of the image.\n",
    "\n",
    "Color channels of images are typically encoded as integers 0-255, but the model expected floats 0-1. You'll need to convert the values. It's easiest with a Numpy array, which you can get from a PIL image like so `np_image = np.array(pil_image)`.\n",
    "\n",
    "As before, the network expects the images to be normalized in a specific way. For the means, it's `[0.485, 0.456, 0.406]` and for the standard deviations `[0.229, 0.224, 0.225]`. You'll want to subtract the means from each color channel, then divide by the standard deviation. \n",
    "\n",
    "And finally, PyTorch expects the color channel to be the first dimension but it's the third dimension in the PIL image and Numpy array. You can reorder dimensions using [`ndarray.transpose`](https://docs.scipy.org/doc/numpy-1.13.0/reference/generated/numpy.ndarray.transpose.html). The color channel needs to be first and retain the order of the other two dimensions."
   ]
  },
  {
   "cell_type": "code",
   "execution_count": null,
   "metadata": {},
   "outputs": [],
   "source": [
    "def process_image(image):\n",
    "    ''' Scales, crops, and normalizes a PIL image for a PyTorch model,\n",
    "        returns an Numpy array\n",
    "    '''\n",
    "    \n",
    "    # TODO: Process a PIL image for use in a PyTorch model"
   ]
  },
  {
   "cell_type": "markdown",
   "metadata": {},
   "source": [
    "To check your work, the function below converts a PyTorch tensor and displays it in the notebook. If your `process_image` function works, running the output through this function should return the original image (except for the cropped out portions)."
   ]
  },
  {
   "cell_type": "code",
   "execution_count": null,
   "metadata": {},
   "outputs": [],
   "source": [
    "def imshow(image, ax=None, title=None):\n",
    "    \"\"\"Imshow for Tensor.\"\"\"\n",
    "    if ax is None:\n",
    "        fig, ax = plt.subplots()\n",
    "    \n",
    "    # PyTorch tensors assume the color channel is the first dimension\n",
    "    # but matplotlib assumes is the third dimension\n",
    "    image = image.numpy().transpose((1, 2, 0))\n",
    "    \n",
    "    # Undo preprocessing\n",
    "    mean = np.array([0.485, 0.456, 0.406])\n",
    "    std = np.array([0.229, 0.224, 0.225])\n",
    "    image = std * image + mean\n",
    "    \n",
    "    # Image needs to be clipped between 0 and 1 or it looks like noise when displayed\n",
    "    image = np.clip(image, 0, 1)\n",
    "    \n",
    "    ax.imshow(image)\n",
    "    \n",
    "    return ax"
   ]
  },
  {
   "cell_type": "markdown",
   "metadata": {},
   "source": [
    "## Class Prediction\n",
    "\n",
    "Once you can get images in the correct format, it's time to write a function for making predictions with your model. A common practice is to predict the top 5 or so (usually called top-$K$) most probable classes. You'll want to calculate the class probabilities then find the $K$ largest values.\n",
    "\n",
    "To get the top $K$ largest values in a tensor use [`x.topk(k)`](http://pytorch.org/docs/master/torch.html#torch.topk). This method returns both the highest `k` probabilities and the indices of those probabilities corresponding to the classes. You need to convert from these indices to the actual class labels using `class_to_idx` which hopefully you added to the model or from an `ImageFolder` you used to load the data ([see here](#Save-the-checkpoint)). Make sure to invert the dictionary so you get a mapping from index to class as well.\n",
    "\n",
    "Again, this method should take a path to an image and a model checkpoint, then return the probabilities and classes.\n",
    "\n",
    "```python\n",
    "probs, classes = predict(image_path, model)\n",
    "print(probs)\n",
    "print(classes)\n",
    "> [ 0.01558163  0.01541934  0.01452626  0.01443549  0.01407339]\n",
    "> ['70', '3', '45', '62', '55']\n",
    "```"
   ]
  },
  {
   "cell_type": "code",
   "execution_count": null,
   "metadata": {},
   "outputs": [],
   "source": [
    "def predict(image_path, model, topk=5):\n",
    "    ''' Predict the class (or classes) of an image using a trained deep learning model.\n",
    "    '''\n",
    "    \n",
    "    # TODO: Implement the code to predict the class from an image file"
   ]
  },
  {
   "cell_type": "markdown",
   "metadata": {},
   "source": [
    "## Sanity Checking\n",
    "\n",
    "Now that you can use a trained model for predictions, check to make sure it makes sense. Even if the testing accuracy is high, it's always good to check that there aren't obvious bugs. Use `matplotlib` to plot the probabilities for the top 5 classes as a bar graph, along with the input image. It should look like this:\n",
    "\n",
    "<img src='assets/inference_example.png' width=300px>\n",
    "\n",
    "You can convert from the class integer encoding to actual flower names with the `cat_to_name.json` file (should have been loaded earlier in the notebook). To show a PyTorch tensor as an image, use the `imshow` function defined above."
   ]
  },
  {
   "cell_type": "code",
   "execution_count": null,
   "metadata": {},
   "outputs": [],
   "source": [
    "# TODO: Display an image along with the top 5 classes"
   ]
  }
 ],
 "metadata": {
  "kernelspec": {
   "display_name": "Python 3 (ipykernel)",
   "language": "python",
   "name": "python3"
  },
  "language_info": {
   "codemirror_mode": {
    "name": "ipython",
    "version": 3
   },
   "file_extension": ".py",
   "mimetype": "text/x-python",
   "name": "python",
   "nbconvert_exporter": "python",
   "pygments_lexer": "ipython3",
   "version": "3.12.4"
  }
 },
 "nbformat": 4,
 "nbformat_minor": 2
}
